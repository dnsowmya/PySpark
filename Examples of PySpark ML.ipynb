{
 "cells": [
  {
   "cell_type": "code",
   "execution_count": 1,
   "id": "c31521ac",
   "metadata": {},
   "outputs": [
    {
     "name": "stderr",
     "output_type": "stream",
     "text": [
      "Setting default log level to \"WARN\".\n",
      "To adjust logging level use sc.setLogLevel(newLevel). For SparkR, use setLogLevel(newLevel).\n",
      "24/01/01 19:00:19 WARN NativeCodeLoader: Unable to load native-hadoop library for your platform... using builtin-java classes where applicable\n",
      "24/01/01 19:00:19 WARN Utils: Service 'SparkUI' could not bind on port 4040. Attempting port 4041.\n"
     ]
    }
   ],
   "source": [
    "from pyspark.sql import SparkSession\n",
    "spark = SparkSession.builder.appName('Missing').getOrCreate()"
   ]
  },
  {
   "cell_type": "code",
   "execution_count": 14,
   "id": "48eb4c54",
   "metadata": {},
   "outputs": [],
   "source": [
    "# Read the dataset\n",
    "training = spark.read.csv('test2.csv',header=True,inferSchema=True)"
   ]
  },
  {
   "cell_type": "code",
   "execution_count": 15,
   "id": "01df0886",
   "metadata": {},
   "outputs": [
    {
     "name": "stdout",
     "output_type": "stream",
     "text": [
      "+-------+---+----------+------+-----------+\n",
      "|   Name|age|Experience|Salary|Departments|\n",
      "+-------+---+----------+------+-----------+\n",
      "|Michael| 25|        10|100000|       COAF|\n",
      "|    Tom| 26|         8|150000| Commercial|\n",
      "| Antony| 27|         4|175000|       Card|\n",
      "| George| 28|         2|200000|     Retail|\n",
      "|   Bill| 29|         5|250000|      Cyber|\n",
      "|   Mark| 30|         3|300000|       Card|\n",
      "|Patrick| 29|         4|350000|       COAF|\n",
      "+-------+---+----------+------+-----------+\n",
      "\n"
     ]
    }
   ],
   "source": [
    "training.show()"
   ]
  },
  {
   "cell_type": "code",
   "execution_count": 16,
   "id": "4b2f4a80",
   "metadata": {},
   "outputs": [
    {
     "name": "stdout",
     "output_type": "stream",
     "text": [
      "root\n",
      " |-- Name: string (nullable = true)\n",
      " |-- age: integer (nullable = true)\n",
      " |-- Experience: integer (nullable = true)\n",
      " |-- Salary: integer (nullable = true)\n",
      " |-- Departments: string (nullable = true)\n",
      "\n"
     ]
    }
   ],
   "source": [
    "training.printSchema()"
   ]
  },
  {
   "cell_type": "code",
   "execution_count": 17,
   "id": "6c0cfd73",
   "metadata": {},
   "outputs": [
    {
     "data": {
      "text/plain": [
       "['Name', 'age', 'Experience', 'Salary', 'Departments']"
      ]
     },
     "execution_count": 17,
     "metadata": {},
     "output_type": "execute_result"
    }
   ],
   "source": [
    "training.columns"
   ]
  },
  {
   "cell_type": "markdown",
   "id": "bb2f540d",
   "metadata": {},
   "source": [
    "[Age,Experience] ---> new feature --> independent feature"
   ]
  },
  {
   "cell_type": "code",
   "execution_count": 18,
   "id": "f75b46a8",
   "metadata": {},
   "outputs": [],
   "source": [
    "from pyspark.ml.feature import VectorAssembler\n",
    "featureassembler = VectorAssembler(inputCols=[\"age\",\"Experience\"],outputCol=\"Independent Features\")"
   ]
  },
  {
   "cell_type": "code",
   "execution_count": 19,
   "id": "4375616b",
   "metadata": {},
   "outputs": [],
   "source": [
    "output=featureassembler.transform(training)"
   ]
  },
  {
   "cell_type": "code",
   "execution_count": 20,
   "id": "e5b19cff",
   "metadata": {},
   "outputs": [
    {
     "name": "stdout",
     "output_type": "stream",
     "text": [
      "+-------+---+----------+------+-----------+--------------------+\n",
      "|   Name|age|Experience|Salary|Departments|Independent Features|\n",
      "+-------+---+----------+------+-----------+--------------------+\n",
      "|Michael| 25|        10|100000|       COAF|         [25.0,10.0]|\n",
      "|    Tom| 26|         8|150000| Commercial|          [26.0,8.0]|\n",
      "| Antony| 27|         4|175000|       Card|          [27.0,4.0]|\n",
      "| George| 28|         2|200000|     Retail|          [28.0,2.0]|\n",
      "|   Bill| 29|         5|250000|      Cyber|          [29.0,5.0]|\n",
      "|   Mark| 30|         3|300000|       Card|          [30.0,3.0]|\n",
      "|Patrick| 29|         4|350000|       COAF|          [29.0,4.0]|\n",
      "+-------+---+----------+------+-----------+--------------------+\n",
      "\n"
     ]
    }
   ],
   "source": [
    "output.show()"
   ]
  },
  {
   "cell_type": "code",
   "execution_count": 21,
   "id": "8cd7ed11",
   "metadata": {},
   "outputs": [
    {
     "data": {
      "text/plain": [
       "['Name', 'age', 'Experience', 'Salary', 'Departments', 'Independent Features']"
      ]
     },
     "execution_count": 21,
     "metadata": {},
     "output_type": "execute_result"
    }
   ],
   "source": [
    "output.columns"
   ]
  },
  {
   "cell_type": "code",
   "execution_count": 22,
   "id": "9be076e0",
   "metadata": {},
   "outputs": [],
   "source": [
    "finalized_data=output.select(\"Independent Features\",\"Salary\")"
   ]
  },
  {
   "cell_type": "code",
   "execution_count": 23,
   "id": "8d0a6df3",
   "metadata": {},
   "outputs": [
    {
     "name": "stdout",
     "output_type": "stream",
     "text": [
      "+--------------------+------+\n",
      "|Independent Features|Salary|\n",
      "+--------------------+------+\n",
      "|         [25.0,10.0]|100000|\n",
      "|          [26.0,8.0]|150000|\n",
      "|          [27.0,4.0]|175000|\n",
      "|          [28.0,2.0]|200000|\n",
      "|          [29.0,5.0]|250000|\n",
      "|          [30.0,3.0]|300000|\n",
      "|          [29.0,4.0]|350000|\n",
      "+--------------------+------+\n",
      "\n"
     ]
    }
   ],
   "source": [
    "finalized_data.show()"
   ]
  },
  {
   "cell_type": "code",
   "execution_count": 24,
   "id": "b8fdfd47",
   "metadata": {},
   "outputs": [
    {
     "name": "stderr",
     "output_type": "stream",
     "text": [
      "24/01/01 20:10:49 WARN Instrumentation: [c5d050d7] regParam is zero, which might cause numerical instability and overfitting.\n",
      "24/01/01 20:10:50 WARN InstanceBuilder: Failed to load implementation from:dev.ludovic.netlib.blas.JNIBLAS\n",
      "24/01/01 20:10:50 WARN InstanceBuilder: Failed to load implementation from:dev.ludovic.netlib.blas.VectorBLAS\n",
      "24/01/01 20:10:50 WARN InstanceBuilder: Failed to load implementation from:dev.ludovic.netlib.lapack.JNILAPACK\n"
     ]
    }
   ],
   "source": [
    "from pyspark.ml.regression import LinearRegression\n",
    "# train test split\n",
    "train_data,test_data=finalized_data.randomSplit([0.75,0.25])\n",
    "regressor=LinearRegression(featuresCol='Independent Features',labelCol='Salary')\n",
    "regressor=regressor.fit(train_data)"
   ]
  },
  {
   "cell_type": "code",
   "execution_count": 25,
   "id": "1feda806",
   "metadata": {},
   "outputs": [
    {
     "data": {
      "text/plain": [
       "DenseVector([100000.0, 25000.0])"
      ]
     },
     "execution_count": 25,
     "metadata": {},
     "output_type": "execute_result"
    }
   ],
   "source": [
    "# Coefficients\n",
    "regressor.coefficients"
   ]
  },
  {
   "cell_type": "code",
   "execution_count": 26,
   "id": "7c298750",
   "metadata": {},
   "outputs": [
    {
     "data": {
      "text/plain": [
       "-2650000.0000002002"
      ]
     },
     "execution_count": 26,
     "metadata": {},
     "output_type": "execute_result"
    }
   ],
   "source": [
    "# Intercepts\n",
    "regressor.intercept"
   ]
  },
  {
   "cell_type": "code",
   "execution_count": 28,
   "id": "bd55ab8a",
   "metadata": {},
   "outputs": [],
   "source": [
    "# Prediction\n",
    "pred_results=regressor.evaluate(test_data)"
   ]
  },
  {
   "cell_type": "code",
   "execution_count": 29,
   "id": "be3b7190",
   "metadata": {},
   "outputs": [
    {
     "name": "stdout",
     "output_type": "stream",
     "text": [
      "+--------------------+------+------------------+\n",
      "|Independent Features|Salary|        prediction|\n",
      "+--------------------+------+------------------+\n",
      "|          [26.0,8.0]|150000|149999.99999999814|\n",
      "|          [27.0,4.0]|175000|149999.99999999348|\n",
      "|          [29.0,5.0]|250000| 375000.0000000098|\n",
      "|          [30.0,3.0]|300000| 425000.0000000112|\n",
      "+--------------------+------+------------------+\n",
      "\n"
     ]
    }
   ],
   "source": [
    "pred_results.predictions.show()"
   ]
  },
  {
   "cell_type": "code",
   "execution_count": 30,
   "id": "7a5ad866",
   "metadata": {},
   "outputs": [
    {
     "data": {
      "text/plain": [
       "(68750.00000000733, 7968750000.00139)"
      ]
     },
     "execution_count": 30,
     "metadata": {},
     "output_type": "execute_result"
    }
   ],
   "source": [
    "pred_results.meanAbsoluteError,pred_results.meanSquaredError"
   ]
  },
  {
   "cell_type": "code",
   "execution_count": 31,
   "id": "da1f6454",
   "metadata": {},
   "outputs": [],
   "source": [
    "df = spark.read.csv('tips.csv',header=True,inferSchema=True)"
   ]
  },
  {
   "cell_type": "code",
   "execution_count": 32,
   "id": "50a940ae",
   "metadata": {},
   "outputs": [
    {
     "name": "stdout",
     "output_type": "stream",
     "text": [
      "+----------+------+------+------+---+------+----+\n",
      "|total_bill|   tip|gender|smoker|day|  time|size|\n",
      "+----------+------+------+------+---+------+----+\n",
      "|     16.99|  1.01|Female|    No|Sun|Dinner|   2|\n",
      "|     10.34|  1.66|  Male|    No|Sun|Dinner|   3|\n",
      "|     21.01|   3.5|  Male|    No|Sun|Dinner|   3|\n",
      "|    161.99| 12.01|Female|    No|Sun|Dinner|  12|\n",
      "|    116.99| 11.01|Female|    No|Sun|Dinner|  22|\n",
      "|   1246.99| 12.01|Female|    No|Sun|Dinner|  32|\n",
      "|    169.99| 19.01|Female|    No|Sun|Dinner|  20|\n",
      "|    106.99| 18.01|Female|    No|Sun|Dinner|  42|\n",
      "|    196.99|123.01|Female|    No|Sun|Dinner|  52|\n",
      "|    316.99| 14.01|Female|    No|Sun|Dinner|  25|\n",
      "|     76.99|  7.01|Female|    No|Sun| Lunch|  62|\n",
      "|     96.99|  9.01|Female|    No|Sat|Dinner|   2|\n",
      "+----------+------+------+------+---+------+----+\n",
      "\n"
     ]
    }
   ],
   "source": [
    "df.show()"
   ]
  },
  {
   "cell_type": "code",
   "execution_count": 33,
   "id": "0b2e1a33",
   "metadata": {},
   "outputs": [
    {
     "name": "stdout",
     "output_type": "stream",
     "text": [
      "root\n",
      " |-- total_bill: double (nullable = true)\n",
      " |-- tip: double (nullable = true)\n",
      " |-- gender: string (nullable = true)\n",
      " |-- smoker: string (nullable = true)\n",
      " |-- day: string (nullable = true)\n",
      " |-- time: string (nullable = true)\n",
      " |-- size: integer (nullable = true)\n",
      "\n"
     ]
    }
   ],
   "source": [
    "df.printSchema()"
   ]
  },
  {
   "cell_type": "code",
   "execution_count": 34,
   "id": "c3952a13",
   "metadata": {},
   "outputs": [
    {
     "data": {
      "text/plain": [
       "['total_bill', 'tip', 'gender', 'smoker', 'day', 'time', 'size']"
      ]
     },
     "execution_count": 34,
     "metadata": {},
     "output_type": "execute_result"
    }
   ],
   "source": [
    "df.columns"
   ]
  },
  {
   "cell_type": "code",
   "execution_count": 35,
   "id": "7d322e13",
   "metadata": {},
   "outputs": [],
   "source": [
    "# Handling Categorical Features\n",
    "from pyspark.ml.feature import StringIndexer"
   ]
  },
  {
   "cell_type": "code",
   "execution_count": 36,
   "id": "53058254",
   "metadata": {},
   "outputs": [
    {
     "name": "stdout",
     "output_type": "stream",
     "text": [
      "+----------+------+------+------+---+------+----+\n",
      "|total_bill|   tip|gender|smoker|day|  time|size|\n",
      "+----------+------+------+------+---+------+----+\n",
      "|     16.99|  1.01|Female|    No|Sun|Dinner|   2|\n",
      "|     10.34|  1.66|  Male|    No|Sun|Dinner|   3|\n",
      "|     21.01|   3.5|  Male|    No|Sun|Dinner|   3|\n",
      "|    161.99| 12.01|Female|    No|Sun|Dinner|  12|\n",
      "|    116.99| 11.01|Female|    No|Sun|Dinner|  22|\n",
      "|   1246.99| 12.01|Female|    No|Sun|Dinner|  32|\n",
      "|    169.99| 19.01|Female|    No|Sun|Dinner|  20|\n",
      "|    106.99| 18.01|Female|    No|Sun|Dinner|  42|\n",
      "|    196.99|123.01|Female|    No|Sun|Dinner|  52|\n",
      "|    316.99| 14.01|Female|    No|Sun|Dinner|  25|\n",
      "|     76.99|  7.01|Female|    No|Sun| Lunch|  62|\n",
      "|     96.99|  9.01|Female|    No|Sat|Dinner|   2|\n",
      "+----------+------+------+------+---+------+----+\n",
      "\n"
     ]
    }
   ],
   "source": [
    "df.show()"
   ]
  },
  {
   "cell_type": "code",
   "execution_count": 37,
   "id": "e03322c1",
   "metadata": {},
   "outputs": [
    {
     "name": "stdout",
     "output_type": "stream",
     "text": [
      "+----------+------+------+------+---+------+----+--------------+\n",
      "|total_bill|   tip|gender|smoker|day|  time|size|gender_indexed|\n",
      "+----------+------+------+------+---+------+----+--------------+\n",
      "|     16.99|  1.01|Female|    No|Sun|Dinner|   2|           0.0|\n",
      "|     10.34|  1.66|  Male|    No|Sun|Dinner|   3|           1.0|\n",
      "|     21.01|   3.5|  Male|    No|Sun|Dinner|   3|           1.0|\n",
      "|    161.99| 12.01|Female|    No|Sun|Dinner|  12|           0.0|\n",
      "|    116.99| 11.01|Female|    No|Sun|Dinner|  22|           0.0|\n",
      "|   1246.99| 12.01|Female|    No|Sun|Dinner|  32|           0.0|\n",
      "|    169.99| 19.01|Female|    No|Sun|Dinner|  20|           0.0|\n",
      "|    106.99| 18.01|Female|    No|Sun|Dinner|  42|           0.0|\n",
      "|    196.99|123.01|Female|    No|Sun|Dinner|  52|           0.0|\n",
      "|    316.99| 14.01|Female|    No|Sun|Dinner|  25|           0.0|\n",
      "|     76.99|  7.01|Female|    No|Sun| Lunch|  62|           0.0|\n",
      "|     96.99|  9.01|Female|    No|Sat|Dinner|   2|           0.0|\n",
      "+----------+------+------+------+---+------+----+--------------+\n",
      "\n"
     ]
    }
   ],
   "source": [
    "indexer=StringIndexer(inputCol=\"gender\",outputCol=\"gender_indexed\")\n",
    "df_r=indexer.fit(df).transform(df)\n",
    "df_r.show()"
   ]
  },
  {
   "cell_type": "code",
   "execution_count": 44,
   "id": "c818261d",
   "metadata": {},
   "outputs": [
    {
     "name": "stdout",
     "output_type": "stream",
     "text": [
      "+----------+------+------+------+---+------+----+--------------+--------------+-----------+------------+\n",
      "|total_bill|   tip|gender|smoker|day|  time|size|gender_indexed|smoker_indexed|day_indexed|time_indexed|\n",
      "+----------+------+------+------+---+------+----+--------------+--------------+-----------+------------+\n",
      "|     16.99|  1.01|Female|    No|Sun|Dinner|   2|           0.0|           0.0|        0.0|         0.0|\n",
      "|     10.34|  1.66|  Male|    No|Sun|Dinner|   3|           1.0|           0.0|        0.0|         0.0|\n",
      "|     21.01|   3.5|  Male|    No|Sun|Dinner|   3|           1.0|           0.0|        0.0|         0.0|\n",
      "|    161.99| 12.01|Female|    No|Sun|Dinner|  12|           0.0|           0.0|        0.0|         0.0|\n",
      "|    116.99| 11.01|Female|    No|Sun|Dinner|  22|           0.0|           0.0|        0.0|         0.0|\n",
      "|   1246.99| 12.01|Female|    No|Sun|Dinner|  32|           0.0|           0.0|        0.0|         0.0|\n",
      "|    169.99| 19.01|Female|    No|Sun|Dinner|  20|           0.0|           0.0|        0.0|         0.0|\n",
      "|    106.99| 18.01|Female|    No|Sun|Dinner|  42|           0.0|           0.0|        0.0|         0.0|\n",
      "|    196.99|123.01|Female|    No|Sun|Dinner|  52|           0.0|           0.0|        0.0|         0.0|\n",
      "|    316.99| 14.01|Female|    No|Sun|Dinner|  25|           0.0|           0.0|        0.0|         0.0|\n",
      "|     76.99|  7.01|Female|    No|Sun| Lunch|  62|           0.0|           0.0|        0.0|         1.0|\n",
      "|     96.99|  9.01|Female|    No|Sat|Dinner|   2|           0.0|           0.0|        1.0|         0.0|\n",
      "+----------+------+------+------+---+------+----+--------------+--------------+-----------+------------+\n",
      "\n"
     ]
    }
   ],
   "source": [
    "indexer=StringIndexer(inputCols=[\"gender\",\"smoker\",\"day\",\"time\"],\n",
    "                      outputCols=[\"gender_indexed\",\"smoker_indexed\",\"day_indexed\",\"time_indexed\"])\n",
    "df_r=indexer.fit(df).transform(df)\n",
    "df_r.show()"
   ]
  },
  {
   "cell_type": "code",
   "execution_count": 45,
   "id": "9dfdcdac",
   "metadata": {},
   "outputs": [
    {
     "name": "stdout",
     "output_type": "stream",
     "text": [
      "root\n",
      " |-- total_bill: double (nullable = true)\n",
      " |-- tip: double (nullable = true)\n",
      " |-- gender: string (nullable = true)\n",
      " |-- smoker: string (nullable = true)\n",
      " |-- day: string (nullable = true)\n",
      " |-- time: string (nullable = true)\n",
      " |-- size: integer (nullable = true)\n",
      " |-- gender_indexed: double (nullable = false)\n",
      " |-- smoker_indexed: double (nullable = false)\n",
      " |-- day_indexed: double (nullable = false)\n",
      " |-- time_indexed: double (nullable = false)\n",
      "\n"
     ]
    }
   ],
   "source": [
    "df_r.printSchema()"
   ]
  },
  {
   "cell_type": "code",
   "execution_count": 46,
   "id": "a38f732b",
   "metadata": {},
   "outputs": [],
   "source": [
    "from pyspark.ml.feature import VectorAssembler\n",
    "featureassembler=VectorAssembler(\n",
    "    inputCols=['tip','size','gender_indexed','smoker_indexed',\n",
    "               'day_indexed','time_indexed'],\n",
    "    outputCol=\"Independent Features\")\n",
    "output=featureassembler.transform(df_r)"
   ]
  },
  {
   "cell_type": "code",
   "execution_count": 48,
   "id": "ddfcd90e",
   "metadata": {},
   "outputs": [
    {
     "name": "stdout",
     "output_type": "stream",
     "text": [
      "+--------------------+\n",
      "|Independent Features|\n",
      "+--------------------+\n",
      "|(6,[0,1],[1.01,2.0])|\n",
      "|[1.66,3.0,1.0,0.0...|\n",
      "|[3.5,3.0,1.0,0.0,...|\n",
      "|(6,[0,1],[12.01,1...|\n",
      "|(6,[0,1],[11.01,2...|\n",
      "|(6,[0,1],[12.01,3...|\n",
      "|(6,[0,1],[19.01,2...|\n",
      "|(6,[0,1],[18.01,4...|\n",
      "|(6,[0,1],[123.01,...|\n",
      "|(6,[0,1],[14.01,2...|\n",
      "|[7.01,62.0,0.0,0....|\n",
      "|[9.01,2.0,0.0,0.0...|\n",
      "+--------------------+\n",
      "\n"
     ]
    }
   ],
   "source": [
    "output.select('Independent Features').show()"
   ]
  },
  {
   "cell_type": "code",
   "execution_count": 50,
   "id": "68012b0d",
   "metadata": {},
   "outputs": [],
   "source": [
    "finalized_data=output.select('Independent Features','total_bill')"
   ]
  },
  {
   "cell_type": "code",
   "execution_count": 51,
   "id": "d0ca5b78",
   "metadata": {},
   "outputs": [
    {
     "name": "stdout",
     "output_type": "stream",
     "text": [
      "+--------------------+----------+\n",
      "|Independent Features|total_bill|\n",
      "+--------------------+----------+\n",
      "|(6,[0,1],[1.01,2.0])|     16.99|\n",
      "|[1.66,3.0,1.0,0.0...|     10.34|\n",
      "|[3.5,3.0,1.0,0.0,...|     21.01|\n",
      "|(6,[0,1],[12.01,1...|    161.99|\n",
      "|(6,[0,1],[11.01,2...|    116.99|\n",
      "|(6,[0,1],[12.01,3...|   1246.99|\n",
      "|(6,[0,1],[19.01,2...|    169.99|\n",
      "|(6,[0,1],[18.01,4...|    106.99|\n",
      "|(6,[0,1],[123.01,...|    196.99|\n",
      "|(6,[0,1],[14.01,2...|    316.99|\n",
      "|[7.01,62.0,0.0,0....|     76.99|\n",
      "|[9.01,2.0,0.0,0.0...|     96.99|\n",
      "+--------------------+----------+\n",
      "\n"
     ]
    }
   ],
   "source": [
    "finalized_data.show()"
   ]
  },
  {
   "cell_type": "code",
   "execution_count": 53,
   "id": "c30dd795",
   "metadata": {},
   "outputs": [
    {
     "name": "stderr",
     "output_type": "stream",
     "text": [
      "24/01/02 11:24:03 WARN Instrumentation: [e3a79c5f] regParam is zero, which might cause numerical instability and overfitting.\n",
      "24/01/02 11:24:03 WARN Instrumentation: [e3a79c5f] Cholesky solver failed due to singular covariance matrix. Retrying with Quasi-Newton solver.\n"
     ]
    }
   ],
   "source": [
    "from pyspark.ml.regression import LinearRegression\n",
    "# train test split\n",
    "train_data,test_data=finalized_data.randomSplit([0.75,0.25], seed=42)\n",
    "regressor = LinearRegression(featuresCol='Independent Features', labelCol='total_bill')\n",
    "regressor=regressor.fit(train_data)\n"
   ]
  },
  {
   "cell_type": "code",
   "execution_count": 54,
   "id": "c8685580",
   "metadata": {},
   "outputs": [
    {
     "data": {
      "text/plain": [
       "DenseVector([-5.2701, 14.735, 0.0, 0.0, 53.8417, -860.7991])"
      ]
     },
     "execution_count": 54,
     "metadata": {},
     "output_type": "execute_result"
    }
   ],
   "source": [
    "regressor.coefficients"
   ]
  },
  {
   "cell_type": "code",
   "execution_count": 55,
   "id": "b8b99518",
   "metadata": {},
   "outputs": [
    {
     "data": {
      "text/plain": [
       "61.1614443202161"
      ]
     },
     "execution_count": 55,
     "metadata": {},
     "output_type": "execute_result"
    }
   ],
   "source": [
    "regressor.intercept"
   ]
  },
  {
   "cell_type": "code",
   "execution_count": 56,
   "id": "92cac9ac",
   "metadata": {},
   "outputs": [],
   "source": [
    "# Predictions\n",
    "pred_results = regressor.evaluate(test_data)"
   ]
  },
  {
   "cell_type": "code",
   "execution_count": 57,
   "id": "4cb0b35d",
   "metadata": {},
   "outputs": [
    {
     "name": "stdout",
     "output_type": "stream",
     "text": [
      "+--------------------+----------+------------------+\n",
      "|Independent Features|total_bill|        prediction|\n",
      "+--------------------+----------+------------------+\n",
      "|(6,[0,1],[12.01,1...|    161.99|174.68824694045358|\n",
      "|(6,[0,1],[19.01,2...|    169.99|255.67796947930884|\n",
      "|[1.66,3.0,1.0,0.0...|     10.34| 96.61819215736222|\n",
      "|[3.5,3.0,1.0,0.0,...|     21.01| 86.92129322623401|\n",
      "+--------------------+----------+------------------+\n",
      "\n"
     ]
    }
   ],
   "source": [
    "# Final Comparison\n",
    "pred_results.predictions.show()"
   ]
  },
  {
   "cell_type": "code",
   "execution_count": 60,
   "id": "605e176f",
   "metadata": {},
   "outputs": [
    {
     "data": {
      "text/plain": [
       "(0.14951932151497982, 62.64392545083966, 4822.974651386256)"
      ]
     },
     "execution_count": 60,
     "metadata": {},
     "output_type": "execute_result"
    }
   ],
   "source": [
    "# Performance Metrics \n",
    "pred_results.r2,pred_results.meanAbsoluteError,pred_results.meanSquaredError"
   ]
  },
  {
   "cell_type": "code",
   "execution_count": null,
   "id": "7ed69284",
   "metadata": {},
   "outputs": [],
   "source": []
  }
 ],
 "metadata": {
  "kernelspec": {
   "display_name": "Python 3 (ipykernel)",
   "language": "python",
   "name": "python3"
  },
  "language_info": {
   "codemirror_mode": {
    "name": "ipython",
    "version": 3
   },
   "file_extension": ".py",
   "mimetype": "text/x-python",
   "name": "python",
   "nbconvert_exporter": "python",
   "pygments_lexer": "ipython3",
   "version": "3.11.5"
  }
 },
 "nbformat": 4,
 "nbformat_minor": 5
}
