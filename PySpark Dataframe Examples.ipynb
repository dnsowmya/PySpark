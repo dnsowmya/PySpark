{
 "cells": [
  {
   "cell_type": "markdown",
   "id": "776fbf74",
   "metadata": {},
   "source": [
    "**Apache Spark** is a unified analytics engine for large-scale data processing.It is a fast and general purpose cluster computing system.It provides high-level APIs in Scala,Java and Python that make parallel jobs easy to write, and an optimized engine that supports general computation graphs."
   ]
  },
  {
   "cell_type": "markdown",
   "id": "d979dafb",
   "metadata": {},
   "source": [
    "- **Speed** - Runs workloads 100x faster\n",
    "- **Ease of Use** - Write applications quickly in Java,Scala,Python,R and SQL\n",
    "- **Generality** - Combine SQL,streaming, and complex analytics\n",
    "- **Runs Everywhere** - Spark runs on Hadoop,Apache Mesos,Kubernetes,standalone or in the cloud.It can access diverse data sources"
   ]
  },
  {
   "cell_type": "markdown",
   "id": "eb9e3207",
   "metadata": {},
   "source": [
    "Spark 3.1.1"
   ]
  },
  {
   "cell_type": "code",
   "execution_count": 1,
   "id": "0ff26bfe",
   "metadata": {},
   "outputs": [
    {
     "name": "stdout",
     "output_type": "stream",
     "text": [
      "Collecting pyspark\n",
      "  Downloading pyspark-3.5.0.tar.gz (316.9 MB)\n",
      "\u001b[2K     \u001b[90m━━━━━━━━━━━━━━━━━━━━━━━━━━━━━━━━━━━━━━━\u001b[0m \u001b[32m316.9/316.9 MB\u001b[0m \u001b[31m6.4 MB/s\u001b[0m eta \u001b[36m0:00:00\u001b[0m00:01\u001b[0m00:01\u001b[0m\n",
      "\u001b[?25h  Preparing metadata (setup.py) ... \u001b[?25ldone\n",
      "\u001b[?25hCollecting py4j==0.10.9.7 (from pyspark)\n",
      "  Downloading py4j-0.10.9.7-py2.py3-none-any.whl (200 kB)\n",
      "\u001b[2K     \u001b[90m━━━━━━━━━━━━━━━━━━━━━━━━━━━━━━━━━━━━━━\u001b[0m \u001b[32m200.5/200.5 kB\u001b[0m \u001b[31m23.1 MB/s\u001b[0m eta \u001b[36m0:00:00\u001b[0m\n",
      "\u001b[?25hBuilding wheels for collected packages: pyspark\n",
      "  Building wheel for pyspark (setup.py) ... \u001b[?25ldone\n",
      "\u001b[?25h  Created wheel for pyspark: filename=pyspark-3.5.0-py2.py3-none-any.whl size=317425347 sha256=26f06e0a0d5a259698393b22e49969259546cd6d3387f93ee4a364cd9c8c010d\n",
      "  Stored in directory: /Users/priyathamkrishnakodeboyina/Library/Caches/pip/wheels/38/df/61/8c121f50c3cffd77f8178180dd232d90b3b99d1bd61fb6d6be\n",
      "Successfully built pyspark\n",
      "Installing collected packages: py4j, pyspark\n",
      "Successfully installed py4j-0.10.9.7 pyspark-3.5.0\n",
      "Note: you may need to restart the kernel to use updated packages.\n"
     ]
    }
   ],
   "source": [
    "pip install pyspark"
   ]
  },
  {
   "cell_type": "code",
   "execution_count": 1,
   "id": "22615ad7",
   "metadata": {},
   "outputs": [],
   "source": [
    "import pyspark"
   ]
  },
  {
   "cell_type": "code",
   "execution_count": 2,
   "id": "163aaa5b",
   "metadata": {},
   "outputs": [
    {
     "data": {
      "text/plain": [
       "pandas.core.frame.DataFrame"
      ]
     },
     "execution_count": 2,
     "metadata": {},
     "output_type": "execute_result"
    }
   ],
   "source": [
    "import pandas as pd\n",
    "type(pd.read_csv('test1.csv'))"
   ]
  },
  {
   "cell_type": "code",
   "execution_count": 3,
   "id": "34a9f7ab",
   "metadata": {},
   "outputs": [],
   "source": [
    "from pyspark.sql import SparkSession"
   ]
  },
  {
   "cell_type": "code",
   "execution_count": 4,
   "id": "8bee9e81",
   "metadata": {},
   "outputs": [
    {
     "name": "stderr",
     "output_type": "stream",
     "text": [
      "Setting default log level to \"WARN\".\n",
      "To adjust logging level use sc.setLogLevel(newLevel). For SparkR, use setLogLevel(newLevel).\n",
      "24/01/01 14:47:32 WARN NativeCodeLoader: Unable to load native-hadoop library for your platform... using builtin-java classes where applicable\n"
     ]
    }
   ],
   "source": [
    "spark=SparkSession.builder.appName('Practice').getOrCreate()"
   ]
  },
  {
   "cell_type": "code",
   "execution_count": 5,
   "id": "abd474c0",
   "metadata": {},
   "outputs": [
    {
     "data": {
      "text/html": [
       "\n",
       "            <div>\n",
       "                <p><b>SparkSession - in-memory</b></p>\n",
       "                \n",
       "        <div>\n",
       "            <p><b>SparkContext</b></p>\n",
       "\n",
       "            <p><a href=\"http://priyathams-mbp.lan:4040\">Spark UI</a></p>\n",
       "\n",
       "            <dl>\n",
       "              <dt>Version</dt>\n",
       "                <dd><code>v3.5.0</code></dd>\n",
       "              <dt>Master</dt>\n",
       "                <dd><code>local[*]</code></dd>\n",
       "              <dt>AppName</dt>\n",
       "                <dd><code>Practice</code></dd>\n",
       "            </dl>\n",
       "        </div>\n",
       "        \n",
       "            </div>\n",
       "        "
      ],
      "text/plain": [
       "<pyspark.sql.session.SparkSession at 0x1052bd550>"
      ]
     },
     "execution_count": 5,
     "metadata": {},
     "output_type": "execute_result"
    }
   ],
   "source": [
    "spark"
   ]
  },
  {
   "cell_type": "code",
   "execution_count": 7,
   "id": "620815de",
   "metadata": {},
   "outputs": [],
   "source": [
    "df_pyspark=spark.read.csv('test1.csv')"
   ]
  },
  {
   "cell_type": "code",
   "execution_count": 21,
   "id": "935c0453",
   "metadata": {},
   "outputs": [],
   "source": [
    "## read the dataset\n",
    "df_pyspark=spark.read.option('header','true').csv('test1.csv',inferSchema=True)"
   ]
  },
  {
   "cell_type": "code",
   "execution_count": 15,
   "id": "c8931eb7",
   "metadata": {},
   "outputs": [
    {
     "data": {
      "text/plain": [
       "pyspark.sql.dataframe.DataFrame"
      ]
     },
     "execution_count": 15,
     "metadata": {},
     "output_type": "execute_result"
    }
   ],
   "source": [
    "type(df_pyspark)"
   ]
  },
  {
   "cell_type": "code",
   "execution_count": 22,
   "id": "f7357bbb",
   "metadata": {},
   "outputs": [
    {
     "name": "stdout",
     "output_type": "stream",
     "text": [
      "root\n",
      " |-- Name: string (nullable = true)\n",
      " |-- age: integer (nullable = true)\n",
      " |-- Experience: integer (nullable = true)\n",
      "\n"
     ]
    }
   ],
   "source": [
    "## Check the Schema\n",
    "df_pyspark.printSchema()"
   ]
  },
  {
   "cell_type": "code",
   "execution_count": 6,
   "id": "f874d359",
   "metadata": {},
   "outputs": [
    {
     "name": "stdout",
     "output_type": "stream",
     "text": [
      "+-------+----+----------+------+\n",
      "|   Name| age|Experience|Salary|\n",
      "+-------+----+----------+------+\n",
      "|Michael|  25|        10|100000|\n",
      "|    Tom|  26|         8|150000|\n",
      "| Antony|  27|         4|175000|\n",
      "| George|  28|         2|200000|\n",
      "|   Bill|  29|         5|250000|\n",
      "|   Mark|  30|         3|300000|\n",
      "|Patrick|  29|         4|350000|\n",
      "|   Zhan|NULL|      NULL|400000|\n",
      "|   NULL|  34|        10|450000|\n",
      "|   NULL|  36|      NULL|  NULL|\n",
      "+-------+----+----------+------+\n",
      "\n"
     ]
    }
   ],
   "source": [
    "## read the dataset option 2\n",
    "df_pyspark=spark.read.csv('test1.csv',header=True,inferSchema=True)\n",
    "df_pyspark.show()"
   ]
  },
  {
   "cell_type": "code",
   "execution_count": 25,
   "id": "24c5c743",
   "metadata": {},
   "outputs": [
    {
     "data": {
      "text/plain": [
       "[Row(Name='Michael', age=25, Experience=10),\n",
       " Row(Name='Tom', age=26, Experience=8),\n",
       " Row(Name='Antony', age=27, Experience=4)]"
      ]
     },
     "execution_count": 25,
     "metadata": {},
     "output_type": "execute_result"
    }
   ],
   "source": [
    "df_pyspark.head(3)"
   ]
  },
  {
   "cell_type": "code",
   "execution_count": 26,
   "id": "98c7a266",
   "metadata": {},
   "outputs": [
    {
     "name": "stdout",
     "output_type": "stream",
     "text": [
      "+-------+---+----------+\n",
      "|   Name|age|Experience|\n",
      "+-------+---+----------+\n",
      "|Michael| 25|        10|\n",
      "|    Tom| 26|         8|\n",
      "| Antony| 27|         4|\n",
      "+-------+---+----------+\n",
      "\n"
     ]
    }
   ],
   "source": [
    "df_pyspark.show()"
   ]
  },
  {
   "cell_type": "code",
   "execution_count": 31,
   "id": "efe8d39a",
   "metadata": {},
   "outputs": [
    {
     "name": "stdout",
     "output_type": "stream",
     "text": [
      "+-------+----------+\n",
      "|   Name|Experience|\n",
      "+-------+----------+\n",
      "|Michael|        10|\n",
      "|    Tom|         8|\n",
      "| Antony|         4|\n",
      "+-------+----------+\n",
      "\n"
     ]
    }
   ],
   "source": [
    "df_pyspark.select(['Name','Experience']).show()"
   ]
  },
  {
   "cell_type": "code",
   "execution_count": 32,
   "id": "ac794b6a",
   "metadata": {},
   "outputs": [
    {
     "data": {
      "text/plain": [
       "Column<'Name'>"
      ]
     },
     "execution_count": 32,
     "metadata": {},
     "output_type": "execute_result"
    }
   ],
   "source": [
    "df_pyspark['Name']"
   ]
  },
  {
   "cell_type": "code",
   "execution_count": 33,
   "id": "6f638615",
   "metadata": {},
   "outputs": [
    {
     "data": {
      "text/plain": [
       "[('Name', 'string'), ('age', 'int'), ('Experience', 'int')]"
      ]
     },
     "execution_count": 33,
     "metadata": {},
     "output_type": "execute_result"
    }
   ],
   "source": [
    "df_pyspark.dtypes"
   ]
  },
  {
   "cell_type": "code",
   "execution_count": 35,
   "id": "9a2733c5",
   "metadata": {},
   "outputs": [
    {
     "name": "stdout",
     "output_type": "stream",
     "text": [
      "+-------+------+----+-----------------+\n",
      "|summary|  Name| age|       Experience|\n",
      "+-------+------+----+-----------------+\n",
      "|  count|     3|   3|                3|\n",
      "|   mean|  NULL|26.0|7.333333333333333|\n",
      "| stddev|  NULL| 1.0|3.055050463303893|\n",
      "|    min|Antony|  25|                4|\n",
      "|    max|   Tom|  27|               10|\n",
      "+-------+------+----+-----------------+\n",
      "\n"
     ]
    }
   ],
   "source": [
    "df_pyspark.describe().show()"
   ]
  },
  {
   "cell_type": "code",
   "execution_count": 38,
   "id": "a5cd2557",
   "metadata": {},
   "outputs": [],
   "source": [
    "## Adding Columns in data frame\n",
    "df_pyspark=df_pyspark.withColumn('Experience in Python',df_pyspark['Experience']-2)"
   ]
  },
  {
   "cell_type": "code",
   "execution_count": 39,
   "id": "a733aa68",
   "metadata": {},
   "outputs": [
    {
     "name": "stdout",
     "output_type": "stream",
     "text": [
      "+-------+---+----------+--------------------+\n",
      "|   Name|age|Experience|Experience in Python|\n",
      "+-------+---+----------+--------------------+\n",
      "|Michael| 25|        10|                   8|\n",
      "|    Tom| 26|         8|                   6|\n",
      "| Antony| 27|         4|                   2|\n",
      "+-------+---+----------+--------------------+\n",
      "\n"
     ]
    }
   ],
   "source": [
    "df_pyspark.show()"
   ]
  },
  {
   "cell_type": "code",
   "execution_count": 41,
   "id": "18f5a828",
   "metadata": {},
   "outputs": [],
   "source": [
    "## Drop the columns\n",
    "df_pyspark=df_pyspark.drop('Experience in Python')"
   ]
  },
  {
   "cell_type": "code",
   "execution_count": 42,
   "id": "d5ec163a",
   "metadata": {},
   "outputs": [
    {
     "name": "stdout",
     "output_type": "stream",
     "text": [
      "+-------+---+----------+\n",
      "|   Name|age|Experience|\n",
      "+-------+---+----------+\n",
      "|Michael| 25|        10|\n",
      "|    Tom| 26|         8|\n",
      "| Antony| 27|         4|\n",
      "+-------+---+----------+\n",
      "\n"
     ]
    }
   ],
   "source": [
    "df_pyspark.show()"
   ]
  },
  {
   "cell_type": "code",
   "execution_count": 44,
   "id": "4d4f4333",
   "metadata": {},
   "outputs": [
    {
     "name": "stdout",
     "output_type": "stream",
     "text": [
      "+-------------+---+----------+\n",
      "|Employee Name|age|Experience|\n",
      "+-------------+---+----------+\n",
      "|      Michael| 25|        10|\n",
      "|          Tom| 26|         8|\n",
      "|       Antony| 27|         4|\n",
      "+-------------+---+----------+\n",
      "\n"
     ]
    }
   ],
   "source": [
    "### Rename the columns\n",
    "df_pyspark.withColumnRenamed('Name','Employee Name').show()"
   ]
  },
  {
   "cell_type": "code",
   "execution_count": 7,
   "id": "05f210b4",
   "metadata": {},
   "outputs": [
    {
     "name": "stdout",
     "output_type": "stream",
     "text": [
      "+----+----------+------+\n",
      "| age|Experience|Salary|\n",
      "+----+----------+------+\n",
      "|  25|        10|100000|\n",
      "|  26|         8|150000|\n",
      "|  27|         4|175000|\n",
      "|  28|         2|200000|\n",
      "|  29|         5|250000|\n",
      "|  30|         3|300000|\n",
      "|  29|         4|350000|\n",
      "|NULL|      NULL|400000|\n",
      "|  34|        10|450000|\n",
      "|  36|      NULL|  NULL|\n",
      "+----+----------+------+\n",
      "\n"
     ]
    }
   ],
   "source": [
    "## drop the columns\n",
    "df_pyspark.drop('Name').show()"
   ]
  },
  {
   "cell_type": "code",
   "execution_count": 8,
   "id": "33ec542e",
   "metadata": {},
   "outputs": [
    {
     "name": "stdout",
     "output_type": "stream",
     "text": [
      "+-------+----+----------+------+\n",
      "|   Name| age|Experience|Salary|\n",
      "+-------+----+----------+------+\n",
      "|Michael|  25|        10|100000|\n",
      "|    Tom|  26|         8|150000|\n",
      "| Antony|  27|         4|175000|\n",
      "| George|  28|         2|200000|\n",
      "|   Bill|  29|         5|250000|\n",
      "|   Mark|  30|         3|300000|\n",
      "|Patrick|  29|         4|350000|\n",
      "|   Zhan|NULL|      NULL|400000|\n",
      "|   NULL|  34|        10|450000|\n",
      "|   NULL|  36|      NULL|  NULL|\n",
      "+-------+----+----------+------+\n",
      "\n"
     ]
    }
   ],
   "source": [
    "df_pyspark.show()"
   ]
  },
  {
   "cell_type": "code",
   "execution_count": 9,
   "id": "012d34db",
   "metadata": {},
   "outputs": [
    {
     "name": "stdout",
     "output_type": "stream",
     "text": [
      "+-------+---+----------+------+\n",
      "|   Name|age|Experience|Salary|\n",
      "+-------+---+----------+------+\n",
      "|Michael| 25|        10|100000|\n",
      "|    Tom| 26|         8|150000|\n",
      "| Antony| 27|         4|175000|\n",
      "| George| 28|         2|200000|\n",
      "|   Bill| 29|         5|250000|\n",
      "|   Mark| 30|         3|300000|\n",
      "|Patrick| 29|         4|350000|\n",
      "+-------+---+----------+------+\n",
      "\n"
     ]
    }
   ],
   "source": [
    "df_pyspark.na.drop().show()"
   ]
  },
  {
   "cell_type": "code",
   "execution_count": 11,
   "id": "22f64d9b",
   "metadata": {},
   "outputs": [
    {
     "name": "stdout",
     "output_type": "stream",
     "text": [
      "+-------+---+----------+------+\n",
      "|   Name|age|Experience|Salary|\n",
      "+-------+---+----------+------+\n",
      "|Michael| 25|        10|100000|\n",
      "|    Tom| 26|         8|150000|\n",
      "| Antony| 27|         4|175000|\n",
      "| George| 28|         2|200000|\n",
      "|   Bill| 29|         5|250000|\n",
      "|   Mark| 30|         3|300000|\n",
      "|Patrick| 29|         4|350000|\n",
      "+-------+---+----------+------+\n",
      "\n"
     ]
    }
   ],
   "source": [
    "# any==how\n",
    "df_pyspark.na.drop(how='any').show()"
   ]
  },
  {
   "cell_type": "code",
   "execution_count": 12,
   "id": "2191d121",
   "metadata": {},
   "outputs": [
    {
     "name": "stdout",
     "output_type": "stream",
     "text": [
      "+-------+----+----------+------+\n",
      "|   Name| age|Experience|Salary|\n",
      "+-------+----+----------+------+\n",
      "|Michael|  25|        10|100000|\n",
      "|    Tom|  26|         8|150000|\n",
      "| Antony|  27|         4|175000|\n",
      "| George|  28|         2|200000|\n",
      "|   Bill|  29|         5|250000|\n",
      "|   Mark|  30|         3|300000|\n",
      "|Patrick|  29|         4|350000|\n",
      "|   Zhan|NULL|      NULL|400000|\n",
      "|   NULL|  34|        10|450000|\n",
      "+-------+----+----------+------+\n",
      "\n"
     ]
    }
   ],
   "source": [
    "# threshold\n",
    "df_pyspark.na.drop(how=\"any\",thresh=2).show()"
   ]
  },
  {
   "cell_type": "code",
   "execution_count": 13,
   "id": "41bb1874",
   "metadata": {},
   "outputs": [
    {
     "name": "stdout",
     "output_type": "stream",
     "text": [
      "+-------+---+----------+------+\n",
      "|   Name|age|Experience|Salary|\n",
      "+-------+---+----------+------+\n",
      "|Michael| 25|        10|100000|\n",
      "|    Tom| 26|         8|150000|\n",
      "| Antony| 27|         4|175000|\n",
      "| George| 28|         2|200000|\n",
      "|   Bill| 29|         5|250000|\n",
      "|   Mark| 30|         3|300000|\n",
      "|Patrick| 29|         4|350000|\n",
      "|   NULL| 34|        10|450000|\n",
      "+-------+---+----------+------+\n",
      "\n"
     ]
    }
   ],
   "source": [
    "# Subset\n",
    "df_pyspark.na.drop(how=\"any\",subset=['Experience']).show()"
   ]
  },
  {
   "cell_type": "code",
   "execution_count": 16,
   "id": "93859ad1",
   "metadata": {},
   "outputs": [
    {
     "name": "stdout",
     "output_type": "stream",
     "text": [
      "+-------+----+----------+------+\n",
      "|   Name| age|Experience|Salary|\n",
      "+-------+----+----------+------+\n",
      "|Michael|  25|        10|100000|\n",
      "|    Tom|  26|         8|150000|\n",
      "| Antony|  27|         4|175000|\n",
      "| George|  28|         2|200000|\n",
      "|   Bill|  29|         5|250000|\n",
      "|   Mark|  30|         3|300000|\n",
      "|Patrick|  29|         4|350000|\n",
      "|   Zhan|NULL|      NULL|400000|\n",
      "|   NULL|  34|        10|450000|\n",
      "|   NULL|  36|      NULL|  NULL|\n",
      "+-------+----+----------+------+\n",
      "\n"
     ]
    }
   ],
   "source": [
    "# Fill the missing value\n",
    "df_pyspark.na.fill('Missing Values',['Experience','age','Salary']).show()"
   ]
  },
  {
   "cell_type": "code",
   "execution_count": 19,
   "id": "f74b92a7",
   "metadata": {},
   "outputs": [
    {
     "name": "stdout",
     "output_type": "stream",
     "text": [
      "+----+----+----------+------+\n",
      "|Name| age|Experience|Salary|\n",
      "+----+----+----------+------+\n",
      "|Zhan|NULL|      NULL|400000|\n",
      "+----+----+----------+------+\n",
      "\n"
     ]
    }
   ],
   "source": [
    "from pyspark.sql.functions import col\n",
    "df_pyspark.filter(col(\"age\").isNull()).show()"
   ]
  },
  {
   "cell_type": "code",
   "execution_count": 27,
   "id": "0178c87d",
   "metadata": {},
   "outputs": [],
   "source": [
    "filled_df = df_pyspark.na.fill(0, subset=[\"age\"])"
   ]
  },
  {
   "cell_type": "code",
   "execution_count": 28,
   "id": "25a87252",
   "metadata": {},
   "outputs": [
    {
     "name": "stdout",
     "output_type": "stream",
     "text": [
      "+-------+---+----------+------+\n",
      "|   Name|age|Experience|Salary|\n",
      "+-------+---+----------+------+\n",
      "|Michael| 25|        10|100000|\n",
      "|    Tom| 26|         8|150000|\n",
      "| Antony| 27|         4|175000|\n",
      "| George| 28|         2|200000|\n",
      "|   Bill| 29|         5|250000|\n",
      "|   Mark| 30|         3|300000|\n",
      "|Patrick| 29|         4|350000|\n",
      "|   Zhan|  0|      NULL|400000|\n",
      "|   NULL| 34|        10|450000|\n",
      "|   NULL| 36|      NULL|  NULL|\n",
      "+-------+---+----------+------+\n",
      "\n"
     ]
    }
   ],
   "source": [
    "filled_df.show()"
   ]
  },
  {
   "cell_type": "code",
   "execution_count": 29,
   "id": "f3693a22",
   "metadata": {},
   "outputs": [
    {
     "name": "stdout",
     "output_type": "stream",
     "text": [
      "+-------+----+----------+------+\n",
      "|   Name| age|Experience|Salary|\n",
      "+-------+----+----------+------+\n",
      "|Michael|  25|        10|100000|\n",
      "|    Tom|  26|         8|150000|\n",
      "| Antony|  27|         4|175000|\n",
      "| George|  28|         2|200000|\n",
      "|   Bill|  29|         5|250000|\n",
      "|   Mark|  30|         3|300000|\n",
      "|Patrick|  29|         4|350000|\n",
      "|   Zhan|NULL|      NULL|400000|\n",
      "|   NULL|  34|        10|450000|\n",
      "|   NULL|  36|      NULL|  NULL|\n",
      "+-------+----+----------+------+\n",
      "\n"
     ]
    }
   ],
   "source": [
    "df_pyspark.show()"
   ]
  },
  {
   "cell_type": "code",
   "execution_count": 30,
   "id": "bd71f0ac",
   "metadata": {},
   "outputs": [],
   "source": [
    "from pyspark.ml.feature import Imputer\n",
    "\n",
    "imputer = Imputer(\n",
    "    inputCols=['age', 'Experience', 'Salary'],\n",
    "    outputCols=[\"{}_imputed\".format(c) for c in ['age','Experience','Salary']]).setStrategy(\"mean\")"
   ]
  },
  {
   "cell_type": "code",
   "execution_count": 31,
   "id": "e2e72ca1",
   "metadata": {},
   "outputs": [
    {
     "name": "stdout",
     "output_type": "stream",
     "text": [
      "+-------+----+----------+------+-----------+------------------+--------------+\n",
      "|   Name| age|Experience|Salary|age_imputed|Experience_imputed|Salary_imputed|\n",
      "+-------+----+----------+------+-----------+------------------+--------------+\n",
      "|Michael|  25|        10|100000|         25|                10|        100000|\n",
      "|    Tom|  26|         8|150000|         26|                 8|        150000|\n",
      "| Antony|  27|         4|175000|         27|                 4|        175000|\n",
      "| George|  28|         2|200000|         28|                 2|        200000|\n",
      "|   Bill|  29|         5|250000|         29|                 5|        250000|\n",
      "|   Mark|  30|         3|300000|         30|                 3|        300000|\n",
      "|Patrick|  29|         4|350000|         29|                 4|        350000|\n",
      "|   Zhan|NULL|      NULL|400000|         29|                 5|        400000|\n",
      "|   NULL|  34|        10|450000|         34|                10|        450000|\n",
      "|   NULL|  36|      NULL|  NULL|         36|                 5|        263888|\n",
      "+-------+----+----------+------+-----------+------------------+--------------+\n",
      "\n"
     ]
    }
   ],
   "source": [
    "# Add imputation cols to df\n",
    "imputer.fit(df_pyspark).transform(df_pyspark).show()"
   ]
  },
  {
   "cell_type": "markdown",
   "id": "9ab77e6a",
   "metadata": {},
   "source": [
    "**Filter Operations**"
   ]
  },
  {
   "cell_type": "code",
   "execution_count": 33,
   "id": "0c6f1e3e",
   "metadata": {},
   "outputs": [
    {
     "name": "stdout",
     "output_type": "stream",
     "text": [
      "+-------+---+----------+------+\n",
      "|   Name|age|Experience|Salary|\n",
      "+-------+---+----------+------+\n",
      "|Michael| 25|        10|100000|\n",
      "|    Tom| 26|         8|150000|\n",
      "| Antony| 27|         4|175000|\n",
      "| George| 28|         2|200000|\n",
      "+-------+---+----------+------+\n",
      "\n"
     ]
    }
   ],
   "source": [
    "# Salary of the people less than or equal to 20000\n",
    "df_pyspark.filter(\"Salary<=200000\").show()"
   ]
  },
  {
   "cell_type": "code",
   "execution_count": 34,
   "id": "e74a979a",
   "metadata": {},
   "outputs": [
    {
     "name": "stdout",
     "output_type": "stream",
     "text": [
      "+-------+---+\n",
      "|   Name|age|\n",
      "+-------+---+\n",
      "|Michael| 25|\n",
      "|    Tom| 26|\n",
      "| Antony| 27|\n",
      "| George| 28|\n",
      "+-------+---+\n",
      "\n"
     ]
    }
   ],
   "source": [
    "df_pyspark.filter(\"Salary<=200000\").select(['Name','age']).show()"
   ]
  },
  {
   "cell_type": "code",
   "execution_count": 42,
   "id": "04a610b4",
   "metadata": {},
   "outputs": [
    {
     "name": "stdout",
     "output_type": "stream",
     "text": [
      "+-------+----+----------+------+\n",
      "|   Name| age|Experience|Salary|\n",
      "+-------+----+----------+------+\n",
      "|Michael|  25|        10|100000|\n",
      "|    Tom|  26|         8|150000|\n",
      "| Antony|  27|         4|175000|\n",
      "| George|  28|         2|200000|\n",
      "|   Bill|  29|         5|250000|\n",
      "|   Mark|  30|         3|300000|\n",
      "|Patrick|  29|         4|350000|\n",
      "|   Zhan|NULL|      NULL|400000|\n",
      "|   NULL|  34|        10|450000|\n",
      "+-------+----+----------+------+\n",
      "\n"
     ]
    }
   ],
   "source": [
    "df_pyspark.filter((df_pyspark['Salary']<=200000) | \n",
    "                  (df_pyspark['Salary']>=150000)).show()"
   ]
  },
  {
   "cell_type": "code",
   "execution_count": 44,
   "id": "e651989a",
   "metadata": {},
   "outputs": [
    {
     "name": "stdout",
     "output_type": "stream",
     "text": [
      "+-------+----+----------+------+\n",
      "|   Name| age|Experience|Salary|\n",
      "+-------+----+----------+------+\n",
      "|   Bill|  29|         5|250000|\n",
      "|   Mark|  30|         3|300000|\n",
      "|Patrick|  29|         4|350000|\n",
      "|   Zhan|NULL|      NULL|400000|\n",
      "|   NULL|  34|        10|450000|\n",
      "+-------+----+----------+------+\n",
      "\n"
     ]
    }
   ],
   "source": [
    "df_pyspark.filter(~(df_pyspark['Salary']<=200000)).show()"
   ]
  },
  {
   "cell_type": "code",
   "execution_count": null,
   "id": "b4c0cc27",
   "metadata": {},
   "outputs": [],
   "source": []
  }
 ],
 "metadata": {
  "kernelspec": {
   "display_name": "Python 3 (ipykernel)",
   "language": "python",
   "name": "python3"
  },
  "language_info": {
   "codemirror_mode": {
    "name": "ipython",
    "version": 3
   },
   "file_extension": ".py",
   "mimetype": "text/x-python",
   "name": "python",
   "nbconvert_exporter": "python",
   "pygments_lexer": "ipython3",
   "version": "3.11.5"
  }
 },
 "nbformat": 4,
 "nbformat_minor": 5
}
